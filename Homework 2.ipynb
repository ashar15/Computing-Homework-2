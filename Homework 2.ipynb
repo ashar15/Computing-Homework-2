{
 "cells": [
  {
   "cell_type": "markdown",
   "id": "6b98b1f8",
   "metadata": {},
   "source": [
    "### Part 1"
   ]
  },
  {
   "cell_type": "code",
   "execution_count": null,
   "id": "2a257b2e",
   "metadata": {},
   "outputs": [],
   "source": [
    "from bs4 import BeautifulSoup as bs\n",
    "import urllib.request\n",
    "import requests"
   ]
  },
  {
   "cell_type": "code",
   "execution_count": null,
   "id": "99e45894",
   "metadata": {},
   "outputs": [],
   "source": [
    "seed_url = 'https://www.federalreserve.gov/newsevents/pressreleases.htm'\n",
    "\n",
    "urls = [seed_url]    \n",
    "seen = [seed_url]    \n",
    "opened = []          \n",
    "maxNumUrl = 10"
   ]
  },
  {
   "cell_type": "code",
   "execution_count": null,
   "id": "ed00a603",
   "metadata": {},
   "outputs": [],
   "source": [
    "try:\n",
    "    curr_url=urls.pop(0)\n",
    "    request = urllib.request.Request(curr_url,headers={'User-Agent': 'Mozilla/5.0'})\n",
    "    webpage = urllib.request.urlopen(request).read()\n",
    "    opened.append(curr_url)\n",
    "\n",
    "except Exception as ex:\n",
    "    print(\"Unable to access= \"+ curr_url) \n"
   ]
  },
  {
   "cell_type": "markdown",
   "id": "ae8c9532",
   "metadata": {},
   "source": [
    "### Part 2"
   ]
  },
  {
   "cell_type": "code",
   "execution_count": 1,
   "id": "729b1061",
   "metadata": {},
   "outputs": [],
   "source": [
    "from bs4 import BeautifulSoup \n",
    "import urllib.request\n",
    "import requests"
   ]
  },
  {
   "cell_type": "code",
   "execution_count": 2,
   "id": "0465fd54",
   "metadata": {},
   "outputs": [],
   "source": [
    "seed_url = 'https://www.sec.gov/news/pressreleases'\n",
    "\n",
    "urls = [seed_url]    \n",
    "seen = [seed_url]    \n",
    "opened = []          "
   ]
  },
  {
   "cell_type": "code",
   "execution_count": 3,
   "id": "24544c83",
   "metadata": {},
   "outputs": [],
   "source": [
    "try:\n",
    "    curr_url=urls.pop(0)\n",
    "    request = urllib.request.Request(curr_url,headers={'User-Agent': 'Mozilla/5.0'})\n",
    "    webpage = urllib.request.urlopen(request).read()\n",
    "    opened.append(curr_url)\n",
    "\n",
    "except Exception as ex:\n",
    "    print(\"Unable to access= \"+ curr_url) \n",
    "\n",
    "soup = BeautifulSoup(webpage)  \n",
    "for tag in soup.find_all('a', href = True): \n",
    "    try:\n",
    "        if urllib.parse.urljoin(seed_url, tag['href']) in seen:\n",
    "            continue\n",
    "        else:\n",
    "            urls.append((urllib.parse.urljoin(seed_url, tag['href']),tag.get_text()))\n",
    "                    \n",
    "    except: \n",
    "        continue\n",
    "        \n",
    "for links in urls: \n",
    "    link = links[0]\n",
    "    text = links[1]\n",
    "    try:\n",
    "        request2 = urllib.request.Request(curr_url,headers={'User-Agent': 'Mozilla/5.0'})\n",
    "        webpage2 = urllib.request.urlopen(request).read()\n",
    "    except Exception as ex:\n",
    "        print('can not reach' + link)\n",
    "        soup2 = BeautifulSoup(webpage2)\n",
    "        \n",
    "        string = ''\n",
    "        for tag in soup2.find_all('p'):\n",
    "            string += tag.get_text()\n",
    "            \n",
    "            string = string.lower()\n",
    "            if 'charges' in string:\n",
    "                seen_charges_urls.append((link, text))\n",
    "                \n",
    "            else: \n",
    "                continue\n",
    "                \n",
    "            if len(seen_charges_urls) > 19:\n",
    "                break\n",
    "seen_charges_urls            "
   ]
  },
  {
   "cell_type": "code",
   "execution_count": null,
   "id": "0b815214",
   "metadata": {},
   "outputs": [],
   "source": []
  },
  {
   "cell_type": "code",
   "execution_count": null,
   "id": "004bdfb1",
   "metadata": {},
   "outputs": [],
   "source": []
  },
  {
   "cell_type": "code",
   "execution_count": null,
   "id": "b87cedc0",
   "metadata": {},
   "outputs": [],
   "source": []
  }
 ],
 "metadata": {
  "kernelspec": {
   "display_name": "Python 3",
   "language": "python",
   "name": "python3"
  },
  "language_info": {
   "codemirror_mode": {
    "name": "ipython",
    "version": 3
   },
   "file_extension": ".py",
   "mimetype": "text/x-python",
   "name": "python",
   "nbconvert_exporter": "python",
   "pygments_lexer": "ipython3",
   "version": "3.8.8"
  }
 },
 "nbformat": 4,
 "nbformat_minor": 5
}
